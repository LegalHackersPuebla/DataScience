{
 "cells": [
  {
   "cell_type": "markdown",
   "metadata": {},
   "source": [
    "<h3>Importamos las bibliotecas</h3>\n",
    "<p>\n",
    "    <ol>\n",
    "        <li>Numpy</li>\n",
    "    <ol/>\n",
    "</p>"
   ]
  },
  {
   "cell_type": "code",
   "execution_count": 3,
   "metadata": {},
   "outputs": [],
   "source": [
    "import numpy as np"
   ]
  },
  {
   "cell_type": "code",
   "execution_count": 14,
   "metadata": {},
   "outputs": [],
   "source": [
    "#Creamos nuestra función, que arroje un error si la lista contiene menos de 9 elementos, y hacemos un reshape() convertir la lista en una matriz en la forma 3 X 3\n",
    "#Aplicamos las forumlas para calcular Media, Varianza, Desviación estándar, Máx, Mín, Sum, de los ejes respectivos.  \n",
    "def calculate(list):\n",
    "  if len(list)<9:\n",
    "    raise ValueError(f\"List must contain nine numbers.\")\n",
    "  list=np.array(list)\n",
    "  list=list.reshape(3,3)\n",
    "  print(\"3 X 3 Matrix:\") \n",
    "  print(list)\n",
    "\n",
    "\n",
    " \n",
    "  calculations={\n",
    "    'mean': [list.mean(axis=0).tolist(),list.mean(axis=1).tolist(),list.mean()],\n",
    "    'variance': [list.var(axis=0).tolist(),list.var(axis=1).tolist(),list.var()],\n",
    "    'standard deviation': [list.std(axis=0).tolist(),list.std(axis=1).tolist(),list.std()],\n",
    "    'max': [list.max(axis=0).tolist(),list.max(axis=1).tolist(),list.max()],\n",
    "    'min': [list.min(axis=0).tolist(),list.min(axis=1).tolist(),list.min()],\n",
    "    'sum': [list.sum(axis=0).tolist(),list.sum(axis=1).tolist(),list.sum()]\n",
    "    }\n",
    "  return calculations"
   ]
  },
  {
   "cell_type": "code",
   "execution_count": 15,
   "metadata": {},
   "outputs": [
    {
     "name": "stdout",
     "output_type": "stream",
     "text": [
      "3 X 3 Matrix:\n",
      "[[0 1 2]\n",
      " [3 4 5]\n",
      " [6 7 8]]\n"
     ]
    },
    {
     "data": {
      "text/plain": [
       "{'mean': [[3.0, 4.0, 5.0], [1.0, 4.0, 7.0], 4.0],\n",
       " 'variance': [[6.0, 6.0, 6.0],\n",
       "  [0.6666666666666666, 0.6666666666666666, 0.6666666666666666],\n",
       "  6.666666666666667],\n",
       " 'standard deviation': [[2.449489742783178,\n",
       "   2.449489742783178,\n",
       "   2.449489742783178],\n",
       "  [0.816496580927726, 0.816496580927726, 0.816496580927726],\n",
       "  2.581988897471611],\n",
       " 'max': [[6, 7, 8], [2, 5, 8], 8],\n",
       " 'min': [[0, 1, 2], [0, 3, 6], 0],\n",
       " 'sum': [[9, 12, 15], [3, 12, 21], 36]}"
      ]
     },
     "execution_count": 15,
     "metadata": {},
     "output_type": "execute_result"
    }
   ],
   "source": [
    "calculate([0,1,2,3,4,5,6,7,8])"
   ]
  }
 ],
 "metadata": {
  "kernelspec": {
   "display_name": "Python 3",
   "language": "python",
   "name": "python3"
  },
  "language_info": {
   "codemirror_mode": {
    "name": "ipython",
    "version": 3
   },
   "file_extension": ".py",
   "mimetype": "text/x-python",
   "name": "python",
   "nbconvert_exporter": "python",
   "pygments_lexer": "ipython3",
   "version": "3.8.5"
  }
 },
 "nbformat": 4,
 "nbformat_minor": 4
}
